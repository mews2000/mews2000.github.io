{
  "cells": [
    {
      "cell_type": "markdown",
      "metadata": {
        "id": "view-in-github",
        "colab_type": "text"
      },
      "source": [
        "<a href=\"https://colab.research.google.com/github/mews2000/mews2000.github.io/blob/main/day21.ipynb\" target=\"_parent\"><img src=\"https://colab.research.google.com/assets/colab-badge.svg\" alt=\"Open In Colab\"/></a>"
      ]
    },
    {
      "cell_type": "markdown",
      "metadata": {
        "id": "G-QOqGdvEykg"
      },
      "source": [
        "# 21번째 이야기\n",
        "- XGBoost와 LightGBM\n",
        "- 하이퍼파라미터 튜닝\n",
        "- 깃팀플 협업"
      ]
    },
    {
      "cell_type": "code",
      "execution_count": null,
      "metadata": {
        "colab": {
          "base_uri": "https://localhost:8080/"
        },
        "id": "DKVHEqriE4Co",
        "outputId": "73d5bb96-1ea9-40ae-e58a-fef40ecef724"
      },
      "outputs": [
        {
          "output_type": "stream",
          "name": "stdout",
          "text": [
            "Mounted at /content/drive\n"
          ]
        }
      ],
      "source": [
        "from google.colab import drive\n",
        "drive.mount('/content/drive')"
      ]
    },
    {
      "cell_type": "code",
      "execution_count": null,
      "metadata": {
        "id": "OdguZsi2Eykh"
      },
      "outputs": [],
      "source": [
        "import pandas as pd\n",
        "\n",
        "data = pd.read_csv('/content/drive/MyDrive/train.csv')"
      ]
    },
    {
      "cell_type": "code",
      "execution_count": null,
      "metadata": {
        "id": "M1mjIO-rEyki"
      },
      "outputs": [],
      "source": [
        "# 전처리\n",
        "# 모델\n",
        "# 학습\n",
        "# 성능평가\n",
        "# 하이퍼파라미터 튜닝"
      ]
    },
    {
      "cell_type": "code",
      "execution_count": null,
      "metadata": {
        "id": "J_ohDcklEyki"
      },
      "outputs": [],
      "source": [
        "from xgboost import XGBRegressor\n",
        "\n",
        "data.dropna(inplace=True)\n",
        "y = data.pop('count')\n",
        "X = data"
      ]
    },
    {
      "cell_type": "code",
      "execution_count": null,
      "metadata": {
        "id": "5phMXyeVEyki"
      },
      "outputs": [],
      "source": [
        "from sklearn.preprocessing import MinMaxScaler\n",
        "\n",
        "scaler = MinMaxScaler()"
      ]
    },
    {
      "cell_type": "code",
      "execution_count": null,
      "metadata": {
        "id": "5RebGNvoEyki"
      },
      "outputs": [],
      "source": [
        "scaler.fit(X)\n",
        "mm_X = scaler.transform(X)"
      ]
    },
    {
      "cell_type": "code",
      "execution_count": null,
      "metadata": {
        "id": "KNPFfgT6Eyki"
      },
      "outputs": [],
      "source": [
        "from sklearn.model_selection import train_test_split\n",
        "\n",
        "X_train,X_test,y_train,y_test = train_test_split(mm_X,y,test_size=0.2)\n"
      ]
    },
    {
      "cell_type": "markdown",
      "metadata": {
        "id": "MKvdRlTkEykj"
      },
      "source": [
        "# XGBoost\n",
        "# LightGBM"
      ]
    },
    {
      "cell_type": "code",
      "execution_count": null,
      "metadata": {
        "colab": {
          "base_uri": "https://localhost:8080/",
          "height": 197
        },
        "id": "bRrZmBsXEykj",
        "outputId": "24c68fdd-d586-4442-f768-269cc09a3fcb"
      },
      "outputs": [
        {
          "output_type": "error",
          "ename": "NameError",
          "evalue": "ignored",
          "traceback": [
            "\u001b[0;31m---------------------------------------------------------------------------\u001b[0m",
            "\u001b[0;31mNameError\u001b[0m                                 Traceback (most recent call last)",
            "\u001b[0;32m<ipython-input-1-9e7c013cad09>\u001b[0m in \u001b[0;36m<cell line: 1>\u001b[0;34m()\u001b[0m\n\u001b[0;32m----> 1\u001b[0;31m \u001b[0mxgb_model\u001b[0m \u001b[0;34m=\u001b[0m \u001b[0mXGBRegressor\u001b[0m\u001b[0;34m(\u001b[0m\u001b[0;34m)\u001b[0m\u001b[0;34m\u001b[0m\u001b[0;34m\u001b[0m\u001b[0m\n\u001b[0m\u001b[1;32m      2\u001b[0m \u001b[0mxgb_model\u001b[0m\u001b[0;34m.\u001b[0m\u001b[0mfit\u001b[0m\u001b[0;34m(\u001b[0m\u001b[0mX_train\u001b[0m\u001b[0;34m,\u001b[0m\u001b[0my_train\u001b[0m\u001b[0;34m)\u001b[0m\u001b[0;34m\u001b[0m\u001b[0;34m\u001b[0m\u001b[0m\n",
            "\u001b[0;31mNameError\u001b[0m: name 'XGBRegressor' is not defined"
          ]
        }
      ],
      "source": [
        "xgb_model = XGBRegressor()\n",
        "xgb_model.fit(X_train,y_train)"
      ]
    },
    {
      "cell_type": "markdown",
      "metadata": {
        "id": "h7Dfu9BzEykj"
      },
      "source": [
        "- callbacks"
      ]
    },
    {
      "cell_type": "code",
      "execution_count": null,
      "metadata": {
        "id": "OhY5WZmREykk"
      },
      "outputs": [],
      "source": [
        "def say_hello():\n",
        "    print('Hello')"
      ]
    },
    {
      "cell_type": "code",
      "execution_count": null,
      "metadata": {
        "id": "9E1a-5XWEykk"
      },
      "outputs": [],
      "source": [
        "def many_work(callback):\n",
        "    print('do something')\n",
        "    callback()\n",
        "    print('do somthing again')"
      ]
    },
    {
      "cell_type": "code",
      "execution_count": null,
      "metadata": {
        "id": "hnpEJmdVEykk"
      },
      "outputs": [],
      "source": [
        "many_work(say_hello)"
      ]
    },
    {
      "cell_type": "code",
      "execution_count": null,
      "metadata": {
        "id": "KXiyeuKmEykl"
      },
      "outputs": [],
      "source": [
        "def makegraph():\n",
        "    print('Make Graph')"
      ]
    },
    {
      "cell_type": "code",
      "execution_count": null,
      "metadata": {
        "id": "9kHFY3OTEykl"
      },
      "outputs": [],
      "source": [
        "def xgb_fit(callbacks=[]):\n",
        "    print(\"machine learning\")\n",
        "    for callback in callbacks:\n",
        "        callback()\n",
        "    print(\"machine learning again\")"
      ]
    },
    {
      "cell_type": "code",
      "execution_count": null,
      "metadata": {
        "id": "J27ZW_IcEykl"
      },
      "outputs": [],
      "source": [
        "xgb_fit(callbacks=[makegraph])"
      ]
    },
    {
      "cell_type": "code",
      "execution_count": null,
      "metadata": {
        "id": "twhlotgcEykl"
      },
      "outputs": [],
      "source": [
        "# 성능 측정\n",
        "from sklearn.metrics import r2_score\n",
        "\n",
        "pred = xgb_model.predict(X_test)\n",
        "r2_score(y_test,pred)"
      ]
    },
    {
      "cell_type": "code",
      "execution_count": null,
      "metadata": {
        "id": "5hsMzPiKEykm"
      },
      "outputs": [],
      "source": [
        "import matplotlib.pyplot as plt\n",
        "plt.plot(pred[:50],'m-',y_test.to_numpy()[:50],'c-')"
      ]
    },
    {
      "cell_type": "markdown",
      "metadata": {
        "id": "fvCmiHAOEykm"
      },
      "source": [
        "# 하이퍼파라미터 튜닝"
      ]
    },
    {
      "cell_type": "code",
      "execution_count": null,
      "metadata": {
        "id": "er27gCRZEykm"
      },
      "outputs": [],
      "source": [
        "from sklearn.model_selection import GridSearchCV"
      ]
    },
    {
      "cell_type": "code",
      "execution_count": null,
      "metadata": {
        "colab": {
          "base_uri": "https://localhost:8080/",
          "height": 135
        },
        "id": "LVZOL5IpEykm",
        "outputId": "a0fff61d-2a43-4dcf-8105-da700a878b8b"
      },
      "outputs": [
        {
          "name": "stdout",
          "output_type": "stream",
          "text": [
            "Fitting 3 folds for each of 9 candidates, totalling 27 fits\n"
          ]
        },
        {
          "data": {
            "text/html": [
              "<style>#sk-container-id-2 {color: black;background-color: white;}#sk-container-id-2 pre{padding: 0;}#sk-container-id-2 div.sk-toggleable {background-color: white;}#sk-container-id-2 label.sk-toggleable__label {cursor: pointer;display: block;width: 100%;margin-bottom: 0;padding: 0.3em;box-sizing: border-box;text-align: center;}#sk-container-id-2 label.sk-toggleable__label-arrow:before {content: \"▸\";float: left;margin-right: 0.25em;color: #696969;}#sk-container-id-2 label.sk-toggleable__label-arrow:hover:before {color: black;}#sk-container-id-2 div.sk-estimator:hover label.sk-toggleable__label-arrow:before {color: black;}#sk-container-id-2 div.sk-toggleable__content {max-height: 0;max-width: 0;overflow: hidden;text-align: left;background-color: #f0f8ff;}#sk-container-id-2 div.sk-toggleable__content pre {margin: 0.2em;color: black;border-radius: 0.25em;background-color: #f0f8ff;}#sk-container-id-2 input.sk-toggleable__control:checked~div.sk-toggleable__content {max-height: 200px;max-width: 100%;overflow: auto;}#sk-container-id-2 input.sk-toggleable__control:checked~label.sk-toggleable__label-arrow:before {content: \"▾\";}#sk-container-id-2 div.sk-estimator input.sk-toggleable__control:checked~label.sk-toggleable__label {background-color: #d4ebff;}#sk-container-id-2 div.sk-label input.sk-toggleable__control:checked~label.sk-toggleable__label {background-color: #d4ebff;}#sk-container-id-2 input.sk-hidden--visually {border: 0;clip: rect(1px 1px 1px 1px);clip: rect(1px, 1px, 1px, 1px);height: 1px;margin: -1px;overflow: hidden;padding: 0;position: absolute;width: 1px;}#sk-container-id-2 div.sk-estimator {font-family: monospace;background-color: #f0f8ff;border: 1px dotted black;border-radius: 0.25em;box-sizing: border-box;margin-bottom: 0.5em;}#sk-container-id-2 div.sk-estimator:hover {background-color: #d4ebff;}#sk-container-id-2 div.sk-parallel-item::after {content: \"\";width: 100%;border-bottom: 1px solid gray;flex-grow: 1;}#sk-container-id-2 div.sk-label:hover label.sk-toggleable__label {background-color: #d4ebff;}#sk-container-id-2 div.sk-serial::before {content: \"\";position: absolute;border-left: 1px solid gray;box-sizing: border-box;top: 0;bottom: 0;left: 50%;z-index: 0;}#sk-container-id-2 div.sk-serial {display: flex;flex-direction: column;align-items: center;background-color: white;padding-right: 0.2em;padding-left: 0.2em;position: relative;}#sk-container-id-2 div.sk-item {position: relative;z-index: 1;}#sk-container-id-2 div.sk-parallel {display: flex;align-items: stretch;justify-content: center;background-color: white;position: relative;}#sk-container-id-2 div.sk-item::before, #sk-container-id-2 div.sk-parallel-item::before {content: \"\";position: absolute;border-left: 1px solid gray;box-sizing: border-box;top: 0;bottom: 0;left: 50%;z-index: -1;}#sk-container-id-2 div.sk-parallel-item {display: flex;flex-direction: column;z-index: 1;position: relative;background-color: white;}#sk-container-id-2 div.sk-parallel-item:first-child::after {align-self: flex-end;width: 50%;}#sk-container-id-2 div.sk-parallel-item:last-child::after {align-self: flex-start;width: 50%;}#sk-container-id-2 div.sk-parallel-item:only-child::after {width: 0;}#sk-container-id-2 div.sk-dashed-wrapped {border: 1px dashed gray;margin: 0 0.4em 0.5em 0.4em;box-sizing: border-box;padding-bottom: 0.4em;background-color: white;}#sk-container-id-2 div.sk-label label {font-family: monospace;font-weight: bold;display: inline-block;line-height: 1.2em;}#sk-container-id-2 div.sk-label-container {text-align: center;}#sk-container-id-2 div.sk-container {/* jupyter's `normalize.less` sets `[hidden] { display: none; }` but bootstrap.min.css set `[hidden] { display: none !important; }` so we also need the `!important` here to be able to override the default hidden behavior on the sphinx rendered scikit-learn.org. See: https://github.com/scikit-learn/scikit-learn/issues/21755 */display: inline-block !important;position: relative;}#sk-container-id-2 div.sk-text-repr-fallback {display: none;}</style><div id=\"sk-container-id-2\" class=\"sk-top-container\"><div class=\"sk-text-repr-fallback\"><pre>GridSearchCV(cv=3,\n",
              "             estimator=XGBRegressor(base_score=None, booster=None,\n",
              "                                    callbacks=None, colsample_bylevel=None,\n",
              "                                    colsample_bynode=None,\n",
              "                                    colsample_bytree=None,\n",
              "                                    early_stopping_rounds=None,\n",
              "                                    enable_categorical=False, eval_metric=None,\n",
              "                                    feature_types=None, gamma=None, gpu_id=None,\n",
              "                                    grow_policy=None, importance_type=None,\n",
              "                                    interaction_constraints=None,\n",
              "                                    learning_rate=None, max_bin=None,\n",
              "                                    max_cat_threshold=None,\n",
              "                                    max_cat_to_onehot=None, max_delta_step=None,\n",
              "                                    max_depth=None, max_leaves=None,\n",
              "                                    min_child_weight=None, missing=nan,\n",
              "                                    monotone_constraints=None, n_estimators=100,\n",
              "                                    n_jobs=None, num_parallel_tree=None,\n",
              "                                    predictor=None, random_state=None, ...),\n",
              "             param_grid={&#x27;learning_rate&#x27;: [0.01, 0.05, 0.1],\n",
              "                         &#x27;max_depth&#x27;: [3, 5, 7]},\n",
              "             scoring=&#x27;r2&#x27;, verbose=1)</pre><b>In a Jupyter environment, please rerun this cell to show the HTML representation or trust the notebook. <br />On GitHub, the HTML representation is unable to render, please try loading this page with nbviewer.org.</b></div><div class=\"sk-container\" hidden><div class=\"sk-item sk-dashed-wrapped\"><div class=\"sk-label-container\"><div class=\"sk-label sk-toggleable\"><input class=\"sk-toggleable__control sk-hidden--visually\" id=\"sk-estimator-id-2\" type=\"checkbox\" ><label for=\"sk-estimator-id-2\" class=\"sk-toggleable__label sk-toggleable__label-arrow\">GridSearchCV</label><div class=\"sk-toggleable__content\"><pre>GridSearchCV(cv=3,\n",
              "             estimator=XGBRegressor(base_score=None, booster=None,\n",
              "                                    callbacks=None, colsample_bylevel=None,\n",
              "                                    colsample_bynode=None,\n",
              "                                    colsample_bytree=None,\n",
              "                                    early_stopping_rounds=None,\n",
              "                                    enable_categorical=False, eval_metric=None,\n",
              "                                    feature_types=None, gamma=None, gpu_id=None,\n",
              "                                    grow_policy=None, importance_type=None,\n",
              "                                    interaction_constraints=None,\n",
              "                                    learning_rate=None, max_bin=None,\n",
              "                                    max_cat_threshold=None,\n",
              "                                    max_cat_to_onehot=None, max_delta_step=None,\n",
              "                                    max_depth=None, max_leaves=None,\n",
              "                                    min_child_weight=None, missing=nan,\n",
              "                                    monotone_constraints=None, n_estimators=100,\n",
              "                                    n_jobs=None, num_parallel_tree=None,\n",
              "                                    predictor=None, random_state=None, ...),\n",
              "             param_grid={&#x27;learning_rate&#x27;: [0.01, 0.05, 0.1],\n",
              "                         &#x27;max_depth&#x27;: [3, 5, 7]},\n",
              "             scoring=&#x27;r2&#x27;, verbose=1)</pre></div></div></div><div class=\"sk-parallel\"><div class=\"sk-parallel-item\"><div class=\"sk-item\"><div class=\"sk-label-container\"><div class=\"sk-label sk-toggleable\"><input class=\"sk-toggleable__control sk-hidden--visually\" id=\"sk-estimator-id-3\" type=\"checkbox\" ><label for=\"sk-estimator-id-3\" class=\"sk-toggleable__label sk-toggleable__label-arrow\">estimator: XGBRegressor</label><div class=\"sk-toggleable__content\"><pre>XGBRegressor(base_score=None, booster=None, callbacks=None,\n",
              "             colsample_bylevel=None, colsample_bynode=None,\n",
              "             colsample_bytree=None, early_stopping_rounds=None,\n",
              "             enable_categorical=False, eval_metric=None, feature_types=None,\n",
              "             gamma=None, gpu_id=None, grow_policy=None, importance_type=None,\n",
              "             interaction_constraints=None, learning_rate=None, max_bin=None,\n",
              "             max_cat_threshold=None, max_cat_to_onehot=None,\n",
              "             max_delta_step=None, max_depth=None, max_leaves=None,\n",
              "             min_child_weight=None, missing=nan, monotone_constraints=None,\n",
              "             n_estimators=100, n_jobs=None, num_parallel_tree=None,\n",
              "             predictor=None, random_state=None, ...)</pre></div></div></div><div class=\"sk-serial\"><div class=\"sk-item\"><div class=\"sk-estimator sk-toggleable\"><input class=\"sk-toggleable__control sk-hidden--visually\" id=\"sk-estimator-id-4\" type=\"checkbox\" ><label for=\"sk-estimator-id-4\" class=\"sk-toggleable__label sk-toggleable__label-arrow\">XGBRegressor</label><div class=\"sk-toggleable__content\"><pre>XGBRegressor(base_score=None, booster=None, callbacks=None,\n",
              "             colsample_bylevel=None, colsample_bynode=None,\n",
              "             colsample_bytree=None, early_stopping_rounds=None,\n",
              "             enable_categorical=False, eval_metric=None, feature_types=None,\n",
              "             gamma=None, gpu_id=None, grow_policy=None, importance_type=None,\n",
              "             interaction_constraints=None, learning_rate=None, max_bin=None,\n",
              "             max_cat_threshold=None, max_cat_to_onehot=None,\n",
              "             max_delta_step=None, max_depth=None, max_leaves=None,\n",
              "             min_child_weight=None, missing=nan, monotone_constraints=None,\n",
              "             n_estimators=100, n_jobs=None, num_parallel_tree=None,\n",
              "             predictor=None, random_state=None, ...)</pre></div></div></div></div></div></div></div></div></div></div>"
            ],
            "text/plain": [
              "GridSearchCV(cv=3,\n",
              "             estimator=XGBRegressor(base_score=None, booster=None,\n",
              "                                    callbacks=None, colsample_bylevel=None,\n",
              "                                    colsample_bynode=None,\n",
              "                                    colsample_bytree=None,\n",
              "                                    early_stopping_rounds=None,\n",
              "                                    enable_categorical=False, eval_metric=None,\n",
              "                                    feature_types=None, gamma=None, gpu_id=None,\n",
              "                                    grow_policy=None, importance_type=None,\n",
              "                                    interaction_constraints=None,\n",
              "                                    learning_rate=None, max_bin=None,\n",
              "                                    max_cat_threshold=None,\n",
              "                                    max_cat_to_onehot=None, max_delta_step=None,\n",
              "                                    max_depth=None, max_leaves=None,\n",
              "                                    min_child_weight=None, missing=nan,\n",
              "                                    monotone_constraints=None, n_estimators=100,\n",
              "                                    n_jobs=None, num_parallel_tree=None,\n",
              "                                    predictor=None, random_state=None, ...),\n",
              "             param_grid={'learning_rate': [0.01, 0.05, 0.1],\n",
              "                         'max_depth': [3, 5, 7]},\n",
              "             scoring='r2', verbose=1)"
            ]
          },
          "execution_count": 19,
          "metadata": {},
          "output_type": "execute_result"
        }
      ],
      "source": [
        "# hyper parameters\n",
        "\n",
        "param_grid = {\n",
        "    'learning_rate':[0.01,0.05,0.1],\n",
        "    'max_depth':[3,5,7]\n",
        "}\n",
        "\n",
        "xgb_model = XGBRegressor()\n",
        "grid_search=GridSearchCV(xgb_model,param_grid,scoring='r2',cv=3,verbose=1)\n",
        "grid_search.fit(X_train,y_train)"
      ]
    },
    {
      "cell_type": "code",
      "execution_count": null,
      "metadata": {
        "colab": {
          "base_uri": "https://localhost:8080/"
        },
        "id": "A4d-JEnxEykn",
        "outputId": "b79a437b-fa30-4f0e-a4b4-4cf9bd57b2f6"
      },
      "outputs": [
        {
          "data": {
            "text/plain": [
              "{'learning_rate': 0.05, 'max_depth': 5}"
            ]
          },
          "execution_count": 20,
          "metadata": {},
          "output_type": "execute_result"
        }
      ],
      "source": [
        "grid_search.best_params_"
      ]
    },
    {
      "cell_type": "code",
      "execution_count": null,
      "metadata": {
        "colab": {
          "base_uri": "https://localhost:8080/"
        },
        "id": "y_zeF4L1Eykn",
        "outputId": "2a2ab552-eaeb-4d07-9ea8-2f6fca906252"
      },
      "outputs": [
        {
          "data": {
            "text/plain": [
              "0.7613079161736316"
            ]
          },
          "execution_count": 21,
          "metadata": {},
          "output_type": "execute_result"
        }
      ],
      "source": [
        "grid_search.best_score_"
      ]
    },
    {
      "cell_type": "code",
      "execution_count": null,
      "metadata": {
        "id": "YOWZG3R8Eykn"
      },
      "outputs": [],
      "source": [
        "from sklearn.preprocessing import StandardScaler\n",
        "stscaler =  StandardScaler()"
      ]
    },
    {
      "cell_type": "code",
      "execution_count": null,
      "metadata": {
        "colab": {
          "base_uri": "https://localhost:8080/",
          "height": 465
        },
        "id": "HMxK4IFVEyko",
        "outputId": "2f7011bf-1ead-4b63-9f80-1c56d9392109"
      },
      "outputs": [
        {
          "data": {
            "text/plain": [
              "[<matplotlib.lines.Line2D at 0x7f7265725c10>,\n",
              " <matplotlib.lines.Line2D at 0x7f7265725d00>]"
            ]
          },
          "execution_count": 23,
          "metadata": {},
          "output_type": "execute_result"
        },
        {
          "data": {
            "image/png": "[encoded data removed]",
            "text/plain": [
              "<Figure size 640x480 with 1 Axes>"
            ]
          },
          "metadata": {},
          "output_type": "display_data"
        }
      ],
      "source": [
        "from lightgbm import LGBMRegressor\n",
        "\n",
        "st_X = stscaler.fit_transform(X)\n",
        "X_train,X_test,y_train,y_test = train_test_split(st_X,y,test_size=0.2)\n",
        "lgbm_model = LGBMRegressor()\n",
        "lgbm_model.fit(X_train,y_train)\n",
        "pred = lgbm_model.predict(X_test)\n",
        "r2_score(y_test,pred)\n",
        "\n",
        "plt.plot(y_test.to_numpy()[:50],'c--',pred[:50],'m-')"
      ]
    },
    {
      "cell_type": "code",
      "execution_count": null,
      "metadata": {
        "colab": {
          "base_uri": "https://localhost:8080/",
          "height": 135
        },
        "id": "51_oYJ6WEyko",
        "outputId": "82052a0e-6af5-4481-a728-0417bb9c7fe6"
      },
      "outputs": [
        {
          "name": "stdout",
          "output_type": "stream",
          "text": [
            "Fitting 5 folds for each of 4500 candidates, totalling 22500 fits\n"
          ]
        },
        {
          "data": {
            "text/html": [
              "<style>#sk-container-id-3 {color: black;background-color: white;}#sk-container-id-3 pre{padding: 0;}#sk-container-id-3 div.sk-toggleable {background-color: white;}#sk-container-id-3 label.sk-toggleable__label {cursor: pointer;display: block;width: 100%;margin-bottom: 0;padding: 0.3em;box-sizing: border-box;text-align: center;}#sk-container-id-3 label.sk-toggleable__label-arrow:before {content: \"▸\";float: left;margin-right: 0.25em;color: #696969;}#sk-container-id-3 label.sk-toggleable__label-arrow:hover:before {color: black;}#sk-container-id-3 div.sk-estimator:hover label.sk-toggleable__label-arrow:before {color: black;}#sk-container-id-3 div.sk-toggleable__content {max-height: 0;max-width: 0;overflow: hidden;text-align: left;background-color: #f0f8ff;}#sk-container-id-3 div.sk-toggleable__content pre {margin: 0.2em;color: black;border-radius: 0.25em;background-color: #f0f8ff;}#sk-container-id-3 input.sk-toggleable__control:checked~div.sk-toggleable__content {max-height: 200px;max-width: 100%;overflow: auto;}#sk-container-id-3 input.sk-toggleable__control:checked~label.sk-toggleable__label-arrow:before {content: \"▾\";}#sk-container-id-3 div.sk-estimator input.sk-toggleable__control:checked~label.sk-toggleable__label {background-color: #d4ebff;}#sk-container-id-3 div.sk-label input.sk-toggleable__control:checked~label.sk-toggleable__label {background-color: #d4ebff;}#sk-container-id-3 input.sk-hidden--visually {border: 0;clip: rect(1px 1px 1px 1px);clip: rect(1px, 1px, 1px, 1px);height: 1px;margin: -1px;overflow: hidden;padding: 0;position: absolute;width: 1px;}#sk-container-id-3 div.sk-estimator {font-family: monospace;background-color: #f0f8ff;border: 1px dotted black;border-radius: 0.25em;box-sizing: border-box;margin-bottom: 0.5em;}#sk-container-id-3 div.sk-estimator:hover {background-color: #d4ebff;}#sk-container-id-3 div.sk-parallel-item::after {content: \"\";width: 100%;border-bottom: 1px solid gray;flex-grow: 1;}#sk-container-id-3 div.sk-label:hover label.sk-toggleable__label {background-color: #d4ebff;}#sk-container-id-3 div.sk-serial::before {content: \"\";position: absolute;border-left: 1px solid gray;box-sizing: border-box;top: 0;bottom: 0;left: 50%;z-index: 0;}#sk-container-id-3 div.sk-serial {display: flex;flex-direction: column;align-items: center;background-color: white;padding-right: 0.2em;padding-left: 0.2em;position: relative;}#sk-container-id-3 div.sk-item {position: relative;z-index: 1;}#sk-container-id-3 div.sk-parallel {display: flex;align-items: stretch;justify-content: center;background-color: white;position: relative;}#sk-container-id-3 div.sk-item::before, #sk-container-id-3 div.sk-parallel-item::before {content: \"\";position: absolute;border-left: 1px solid gray;box-sizing: border-box;top: 0;bottom: 0;left: 50%;z-index: -1;}#sk-container-id-3 div.sk-parallel-item {display: flex;flex-direction: column;z-index: 1;position: relative;background-color: white;}#sk-container-id-3 div.sk-parallel-item:first-child::after {align-self: flex-end;width: 50%;}#sk-container-id-3 div.sk-parallel-item:last-child::after {align-self: flex-start;width: 50%;}#sk-container-id-3 div.sk-parallel-item:only-child::after {width: 0;}#sk-container-id-3 div.sk-dashed-wrapped {border: 1px dashed gray;margin: 0 0.4em 0.5em 0.4em;box-sizing: border-box;padding-bottom: 0.4em;background-color: white;}#sk-container-id-3 div.sk-label label {font-family: monospace;font-weight: bold;display: inline-block;line-height: 1.2em;}#sk-container-id-3 div.sk-label-container {text-align: center;}#sk-container-id-3 div.sk-container {/* jupyter's `normalize.less` sets `[hidden] { display: none; }` but bootstrap.min.css set `[hidden] { display: none !important; }` so we also need the `!important` here to be able to override the default hidden behavior on the sphinx rendered scikit-learn.org. See: https://github.com/scikit-learn/scikit-learn/issues/21755 */display: inline-block !important;position: relative;}#sk-container-id-3 div.sk-text-repr-fallback {display: none;}</style><div id=\"sk-container-id-3\" class=\"sk-top-container\"><div class=\"sk-text-repr-fallback\"><pre>GridSearchCV(cv=5, estimator=LGBMRegressor(),\n",
              "             param_grid={&#x27;colsample_bytree&#x27;: [0.1, 0.3, 0.5, 0.7, 1],\n",
              "                         &#x27;learning_rate&#x27;: [0.01, 0.03, 0.05, 0.07, 0.1],\n",
              "                         &#x27;max_depth&#x27;: [1, 3, 5, 7, 9, 10],\n",
              "                         &#x27;min_child_weight&#x27;: [1, 3, 5, 7, 9, 10],\n",
              "                         &#x27;subsample&#x27;: [0.1, 0.3, 0.5, 0.7, 1]},\n",
              "             scoring=&#x27;r2&#x27;, verbose=1)</pre><b>In a Jupyter environment, please rerun this cell to show the HTML representation or trust the notebook. <br />On GitHub, the HTML representation is unable to render, please try loading this page with nbviewer.org.</b></div><div class=\"sk-container\" hidden><div class=\"sk-item sk-dashed-wrapped\"><div class=\"sk-label-container\"><div class=\"sk-label sk-toggleable\"><input class=\"sk-toggleable__control sk-hidden--visually\" id=\"sk-estimator-id-5\" type=\"checkbox\" ><label for=\"sk-estimator-id-5\" class=\"sk-toggleable__label sk-toggleable__label-arrow\">GridSearchCV</label><div class=\"sk-toggleable__content\"><pre>GridSearchCV(cv=5, estimator=LGBMRegressor(),\n",
              "             param_grid={&#x27;colsample_bytree&#x27;: [0.1, 0.3, 0.5, 0.7, 1],\n",
              "                         &#x27;learning_rate&#x27;: [0.01, 0.03, 0.05, 0.07, 0.1],\n",
              "                         &#x27;max_depth&#x27;: [1, 3, 5, 7, 9, 10],\n",
              "                         &#x27;min_child_weight&#x27;: [1, 3, 5, 7, 9, 10],\n",
              "                         &#x27;subsample&#x27;: [0.1, 0.3, 0.5, 0.7, 1]},\n",
              "             scoring=&#x27;r2&#x27;, verbose=1)</pre></div></div></div><div class=\"sk-parallel\"><div class=\"sk-parallel-item\"><div class=\"sk-item\"><div class=\"sk-label-container\"><div class=\"sk-label sk-toggleable\"><input class=\"sk-toggleable__control sk-hidden--visually\" id=\"sk-estimator-id-6\" type=\"checkbox\" ><label for=\"sk-estimator-id-6\" class=\"sk-toggleable__label sk-toggleable__label-arrow\">estimator: LGBMRegressor</label><div class=\"sk-toggleable__content\"><pre>LGBMRegressor()</pre></div></div></div><div class=\"sk-serial\"><div class=\"sk-item\"><div class=\"sk-estimator sk-toggleable\"><input class=\"sk-toggleable__control sk-hidden--visually\" id=\"sk-estimator-id-7\" type=\"checkbox\" ><label for=\"sk-estimator-id-7\" class=\"sk-toggleable__label sk-toggleable__label-arrow\">LGBMRegressor</label><div class=\"sk-toggleable__content\"><pre>LGBMRegressor()</pre></div></div></div></div></div></div></div></div></div></div>"
            ],
            "text/plain": [
              "GridSearchCV(cv=5, estimator=LGBMRegressor(),\n",
              "             param_grid={'colsample_bytree': [0.1, 0.3, 0.5, 0.7, 1],\n",
              "                         'learning_rate': [0.01, 0.03, 0.05, 0.07, 0.1],\n",
              "                         'max_depth': [1, 3, 5, 7, 9, 10],\n",
              "                         'min_child_weight': [1, 3, 5, 7, 9, 10],\n",
              "                         'subsample': [0.1, 0.3, 0.5, 0.7, 1]},\n",
              "             scoring='r2', verbose=1)"
            ]
          },
          "execution_count": 24,
          "metadata": {},
          "output_type": "execute_result"
        }
      ],
      "source": [
        "# hyper parameters\n",
        "lgbm_model = LGBMRegressor()\n",
        "param_grid =    {'learning_rate':[0.01,0.03, 0.05,0.07,0.1],\n",
        "    'max_depth': [1,3,5,7,9,10],\n",
        "    'min_child_weight':[1,3,5,7,9,10],\n",
        "    'subsample':[0.1,0.3,0.5,0.7,1],\n",
        "    'colsample_bytree':[0.1,0.3,0.5,0.7,1]}\n",
        "grid_search2 = GridSearchCV(lgbm_model,param_grid,scoring='r2',cv=5,verbose=1)\n",
        "grid_search2.fit(X_train,y_train)"
      ]
    },
    {
      "cell_type": "code",
      "execution_count": null,
      "metadata": {
        "colab": {
          "base_uri": "https://localhost:8080/"
        },
        "id": "mhnTUpuJEykp",
        "outputId": "9f00019d-e685-4dc7-a97c-5f3db3005297"
      },
      "outputs": [
        {
          "data": {
            "text/plain": [
              "{'colsample_bytree': 0.5,\n",
              " 'learning_rate': 0.05,\n",
              " 'max_depth': 5,\n",
              " 'min_child_weight': 1,\n",
              " 'subsample': 0.1}"
            ]
          },
          "execution_count": 28,
          "metadata": {},
          "output_type": "execute_result"
        }
      ],
      "source": [
        "grid_search2.best_params_"
      ]
    },
    {
      "cell_type": "code",
      "execution_count": null,
      "metadata": {
        "colab": {
          "base_uri": "https://localhost:8080/"
        },
        "id": "a-c5TsFuEykp",
        "outputId": "91092817-1257-46a2-8abd-9a045239443f"
      },
      "outputs": [
        {
          "data": {
            "text/plain": [
              "0.7488479182754768"
            ]
          },
          "execution_count": 29,
          "metadata": {},
          "output_type": "execute_result"
        }
      ],
      "source": [
        "grid_search2.best_score_"
      ]
    },
    {
      "cell_type": "code",
      "execution_count": null,
      "metadata": {
        "colab": {
          "base_uri": "https://localhost:8080/"
        },
        "id": "4hwjQnM2Spa0",
        "outputId": "ca794e42-f412-4b6e-f4d0-31449a690314"
      },
      "outputs": [
        {
          "output_type": "stream",
          "name": "stdout",
          "text": [
            "level_0                         0\n",
            "Unnamed: 0                      0\n",
            "index                           0\n",
            "ID                              0\n",
            "Month                           0\n",
            "Day_of_Month                    0\n",
            "Estimated_Departure_Time    27841\n",
            "Estimated_Arrival_Time      27684\n",
            "Cancelled                       0\n",
            "Diverted                        0\n",
            "Origin_Airport                  0\n",
            "Origin_Airport_ID               0\n",
            "Origin_State                    0\n",
            "Destination_Airport             0\n",
            "Destination_Airport_ID          0\n",
            "Destination_State               0\n",
            "Distance                        0\n",
            "Airline                     27540\n",
            "Carrier_Code(IATA)          27888\n",
            "Carrier_ID(DOT)             27770\n",
            "Tail_Number                     0\n",
            "Delay_Delayed                   0\n",
            "Delay_Not_Delayed               0\n",
            "dtype: int64\n"
          ]
        },
        {
          "output_type": "stream",
          "name": "stderr",
          "text": [
            "<ipython-input-17-462e4480edd1>:196: FutureWarning: Not prepending group keys to the result index of transform-like apply. In the future, the group keys will be included in the index, regardless of whether the applied function returns a like-indexed object.\n",
            "To preserve the previous behavior, use\n",
            "\n",
            "\t>>> .groupby(..., group_keys=False)\n",
            "\n",
            "To adopt the future behavior and silence this warning, use \n",
            "\n",
            "\t>>> .groupby(..., group_keys=True)\n",
            "  data_copy = data_copy.groupby(['Month','Origin_Airport','Destination_Airport','Distance', 'Airline','Tail_Number']).apply(fill_elapsed).reset_index(drop=True)\n",
            "<ipython-input-17-462e4480edd1>:198: FutureWarning: Not prepending group keys to the result index of transform-like apply. In the future, the group keys will be included in the index, regardless of whether the applied function returns a like-indexed object.\n",
            "To preserve the previous behavior, use\n",
            "\n",
            "\t>>> .groupby(..., group_keys=False)\n",
            "\n",
            "To adopt the future behavior and silence this warning, use \n",
            "\n",
            "\t>>> .groupby(..., group_keys=True)\n",
            "  data_copy = data_copy.groupby(['Month','Origin_Airport','Destination_Airport','Distance', 'Airline']).apply(fill_elapsed).reset_index(drop=True)\n",
            "<ipython-input-17-462e4480edd1>:200: FutureWarning: Not prepending group keys to the result index of transform-like apply. In the future, the group keys will be included in the index, regardless of whether the applied function returns a like-indexed object.\n",
            "To preserve the previous behavior, use\n",
            "\n",
            "\t>>> .groupby(..., group_keys=False)\n",
            "\n",
            "To adopt the future behavior and silence this warning, use \n",
            "\n",
            "\t>>> .groupby(..., group_keys=True)\n",
            "  data_copy = data_copy.groupby(['Month','Origin_Airport','Destination_Airport','Distance']).apply(fill_elapsed).reset_index(drop=True)\n",
            "<ipython-input-17-462e4480edd1>:202: FutureWarning: Not prepending group keys to the result index of transform-like apply. In the future, the group keys will be included in the index, regardless of whether the applied function returns a like-indexed object.\n",
            "To preserve the previous behavior, use\n",
            "\n",
            "\t>>> .groupby(..., group_keys=False)\n",
            "\n",
            "To adopt the future behavior and silence this warning, use \n",
            "\n",
            "\t>>> .groupby(..., group_keys=True)\n",
            "  data_copy = data_copy.groupby(['Origin_Airport','Destination_Airport','Distance','Airline']).apply(fill_elapsed).reset_index(drop=True)\n",
            "<ipython-input-17-462e4480edd1>:204: FutureWarning: Not prepending group keys to the result index of transform-like apply. In the future, the group keys will be included in the index, regardless of whether the applied function returns a like-indexed object.\n",
            "To preserve the previous behavior, use\n",
            "\n",
            "\t>>> .groupby(..., group_keys=False)\n",
            "\n",
            "To adopt the future behavior and silence this warning, use \n",
            "\n",
            "\t>>> .groupby(..., group_keys=True)\n",
            "  data_copy = data_copy.groupby(['Origin_Airport','Destination_Airport','Airline']).apply(fill_elapsed).reset_index(drop=True)\n",
            "<ipython-input-17-462e4480edd1>:206: FutureWarning: Not prepending group keys to the result index of transform-like apply. In the future, the group keys will be included in the index, regardless of whether the applied function returns a like-indexed object.\n",
            "To preserve the previous behavior, use\n",
            "\n",
            "\t>>> .groupby(..., group_keys=False)\n",
            "\n",
            "To adopt the future behavior and silence this warning, use \n",
            "\n",
            "\t>>> .groupby(..., group_keys=True)\n",
            "  data_copy = data_copy.groupby(['Origin_Airport','Destination_Airport','Distance']).apply(fill_elapsed).reset_index(drop=True)\n"
          ]
        }
      ],
      "source": [
        "from tqdm import tqdm\n",
        "import pandas as pd\n",
        "import matplotlib.pyplot as plot\n",
        "from sklearn.model_selection import train_test_split\n",
        "from sklearn.ensemble import RandomForestRegressor\n",
        "from sklearn.metrics import r2_score\n",
        "from sklearn.preprocessing import LabelEncoder\n",
        "from datetime import datetime,timedelta\n",
        "import math\n",
        "\n",
        "\n",
        "\n",
        "data = pd.read_csv('/content/drive/MyDrive/new_preprocessed/state_modified.csv')\n",
        "\n",
        "data_copy = data.copy()\n",
        "\n",
        "data_copy.reset_index(drop=False,inplace=True) # 제거된 열로 인해 번호가 안맞는 index 재설정\n",
        "\n",
        "data_copy['Delay_Delayed'] = data_copy['Delay_Delayed'].astype(int)\n",
        "data_copy['Delay_Not_Delayed'] = data_copy['Delay_Not_Delayed'].astype(int)\n",
        "\n",
        "\"\"\"\n",
        "#######################################################################################33\n",
        "# OPEN file : train.csv\n",
        "\n",
        "\n",
        "# extract data of time and distance\n",
        "target_data=['Estimated_Departure_Time','Estimated_Arrival_Time','Distance']\n",
        "time_distance=data_copy[target_data]\n",
        "time_distance.dropna(subset=['Estimated_Arrival_Time'], inplace=True)\n",
        "\n",
        "# index list of departure_time isnull()\n",
        "index_dep=time_distance[time_distance['Estimated_Departure_Time'].isna()].index\n",
        "\n",
        "# dataframe of departure_time isnull()\n",
        "departure_data=time_distance.loc[index_dep]\n",
        "\n",
        "# drop remaining NaN values to operate modeling\n",
        "time_distance.dropna(inplace=True)\n",
        "\n",
        "# training\n",
        "y=time_distance.pop('Estimated_Departure_Time')\n",
        "X=time_distance\n",
        "X_train, X_test, y_train, y_test = train_test_split(X,y,test_size=0.2)\n",
        "\n",
        "# modeling\n",
        "model_dep=RandomForestRegressor()\n",
        "model_dep.fit(X_train, y_train)\n",
        "\n",
        "# modeling check\n",
        "pred=model_dep.predict(X_test)\n",
        "r2_score(y_test, pred)\n",
        "\n",
        "# project NaN data of Departure Time\n",
        "departure_data_bak=departure_data.copy()\n",
        "dep_y=departure_data.pop('Estimated_Departure_Time')\n",
        "dep_X=departure_data\n",
        "pred=model_dep.predict(dep_X)\n",
        "departure_data_bak['Estimated_Departure_Time']=pred\n",
        "\n",
        "# fill the estimated departure_time_data to original dataframe\n",
        "data_copy.loc[departure_data_bak.index, 'Estimated_Departure_Time']=departure_data_bak['Estimated_Departure_Time']\n",
        "\n",
        "# OPEN file : train.csv\n",
        "# data_copy=pd.read_csv('./open/train.csv')\n",
        "\n",
        "# extract data of time and distance\n",
        "target_data=['Estimated_Departure_Time','Estimated_Arrival_Time','Distance']\n",
        "time_distance=data_copy[target_data]\n",
        "time_distance.dropna(subset=['Estimated_Departure_Time'], inplace=True)\n",
        "\n",
        "# index list of arrival_time isnull()\n",
        "index_dep=time_distance[time_distance['Estimated_Arrival_Time'].isna()].index\n",
        "\n",
        "# dataframe of arrival_time isnull()\n",
        "departure_data=time_distance.loc[index_dep]\n",
        "\n",
        "# drop remaining NaN values to operate modeling\n",
        "time_distance.dropna(inplace=True)\n",
        "\n",
        "# training\n",
        "y=time_distance.pop('Estimated_Arrival_Time')\n",
        "X=time_distance\n",
        "X_train, X_test, y_train, y_test = train_test_split(X,y,test_size=0.2)\n",
        "\n",
        "# modeling\n",
        "model_dep=RandomForestRegressor()\n",
        "model_dep.fit(X_train, y_train)\n",
        "\n",
        "# modeling check\n",
        "pred=model_dep.predict(X_test)\n",
        "r2_score(y_test, pred)\n",
        "\n",
        "# project NaN data of Arrival Time\n",
        "departure_data_bak=departure_data.copy()\n",
        "dep_y=departure_data.pop('Estimated_Arrival_Time')\n",
        "dep_X=departure_data\n",
        "pred=model_dep.predict(dep_X)\n",
        "departure_data_bak['Estimated_Arrival_Time']=pred\n",
        "\n",
        "# fill the estimated arrival_time_data to original dataframe\n",
        "data_copy.loc[departure_data_bak.index, 'Estimated_Arrival_Time']=departure_data_bak['Estimated_Arrival_Time']\n",
        "print(data_copy.isna().sum())\n",
        "\n",
        "##############################################################################################################\n",
        "\n",
        "def to_int(num):\n",
        "  if pd.isna(num):\n",
        "    return pd.NaT\n",
        "  else:\n",
        "    return int(num)\n",
        "\n",
        "###############################################################################################################\n",
        "\"\"\"\n",
        "def time_format_change(num):\n",
        "    if pd.isna(num):\n",
        "        return None\n",
        "    else :\n",
        "        num = int(num)\n",
        "        if num == 2400:\n",
        "            return '0000'\n",
        "        return '{:04d}'.format(num)\n",
        "        # a = '{:04d}'.format(num)\n",
        "        # temp = list(a)\n",
        "        # if '6' <= temp[2] <='9':\n",
        "        #   temp[2] = '0'\n",
        "        #   temp[1] = str(int(temp[1])+1)\n",
        "        #   output = \"\".join(temp)\n",
        "        #   return output\n",
        "\n",
        "        # if temp[2] == '6':\n",
        "        #   temp[2] = '0'\n",
        "        #   temp[1] = str(int(temp[1])+1)\n",
        "        #   output = \"\".join(temp)\n",
        "        #   return output\n",
        "        # if temp[2] == '7':\n",
        "        #   temp[2] = '1'\n",
        "        #   temp[1] = str(int(temp[1])+1)\n",
        "        #   output = \"\".join(temp)\n",
        "        #   return output\n",
        "        # if temp[2] == '8':\n",
        "        #   temp[2] = '2'\n",
        "        #   temp[1] = str(int(temp[1])+1)\n",
        "        #   output = \"\".join(temp)\n",
        "        #   return output\n",
        "        # if temp[2] == '9':\n",
        "        #   temp[2] = '3'\n",
        "        #   temp[1] = str(int(temp[1])+1)\n",
        "        #   output = \"\".join(temp)\n",
        "        #   return output\n",
        "        # else:\n",
        "        #   return a\n",
        "\n",
        "# data_copy['Estimated_Departure_Time'] = data_copy['Estimated_Departure_Time'].apply(to_int)\n",
        "# data_copy['Estimated_Arrival_Time'] = data_copy['Estimated_Arrival_Time'].apply(to_int)\n",
        "\n",
        "print(data_copy.isna().sum())\n",
        "\n",
        "\n",
        "data_copy['Estimated_Departure_Time']=data_copy['Estimated_Departure_Time'].apply(time_format_change)\n",
        "data_copy['Estimated_Arrival_Time']=data_copy['Estimated_Arrival_Time'].apply(time_format_change)\n",
        "\n",
        "\n",
        "def create_departure_timedate(group): # datetime format을 맞추기 위해 임의로 연도를 2022년으로 설정\n",
        "    if pd.isna(group['Estimated_Departure_Time']):\n",
        "        group['Estimated_Departure_Datetime'] = pd.NaT\n",
        "        return group\n",
        "    else :\n",
        "        group['Estimated_Departure_Datetime'] = datetime(year=2022,month=group['Month'],day=group['Day_of_Month'],hour=int(group['Estimated_Departure_Time'][:2]),minute=int(group['Estimated_Departure_Time'][2:]))\n",
        "        return group\n",
        "\n",
        "def create_arrival_timedate(group):\n",
        "    if pd.isna(group['Estimated_Arrival_Time']):\n",
        "        group['Estimated_Arrival_Datetime'] = pd.NaT\n",
        "        return group\n",
        "    else :\n",
        "        group['Estimated_Arrival_Datetime'] = datetime(year=2022,month=group['Month'],day=group['Day_of_Month'],hour=int(group['Estimated_Arrival_Time'][:2]),minute=int(group['Estimated_Arrival_Time'][2:]))\n",
        "        return group\n",
        "\n",
        "data_copy = data_copy.apply(create_departure_timedate,axis=1)\n",
        "data_copy = data_copy.apply(create_arrival_timedate,axis=1)\n",
        "\n",
        "data_copy['Estimated_Arrival_Datetime'] = data_copy.apply(lambda row: row['Estimated_Arrival_Datetime'] + timedelta(days=1) if (not pd.isna(row['Estimated_Departure_Datetime'])) and (not pd.isna(row['Estimated_Arrival_Datetime'])) and (row['Estimated_Departure_Datetime'] > row['Estimated_Arrival_Datetime']) else row['Estimated_Arrival_Datetime'], axis=1)\n",
        "\n",
        "\n",
        "\n",
        "data_copy['Estimated_Departure_Datetime']=pd.to_datetime(data_copy['Estimated_Departure_Datetime'])\n",
        "data_copy['Estimated_Arrival_Datetime']=pd.to_datetime(data_copy['Estimated_Arrival_Datetime'])\n",
        "data_copy['Elapsed_Time'] = data_copy.apply(lambda row: row['Estimated_Arrival_Datetime'] - row['Estimated_Departure_Datetime'] if (not pd.isna(row['Estimated_Departure_Datetime'])) and (not pd.isna(row['Estimated_Arrival_Datetime'])) else pd.NaT, axis=1)\n",
        "\n",
        "def fill_elapsed(group):\n",
        "    elapsed_mean = group['Elapsed_Time'].mean()\n",
        "    group['Elapsed_Time'].fillna(elapsed_mean,inplace=True)\n",
        "    return group\n",
        "\n",
        "data_copy = data_copy.groupby(['Month','Origin_Airport','Destination_Airport','Distance', 'Airline','Tail_Number']).apply(fill_elapsed).reset_index(drop=True)\n",
        "\n",
        "data_copy = data_copy.groupby(['Month','Origin_Airport','Destination_Airport','Distance', 'Airline']).apply(fill_elapsed).reset_index(drop=True)\n",
        "\n",
        "data_copy = data_copy.groupby(['Month','Origin_Airport','Destination_Airport','Distance']).apply(fill_elapsed).reset_index(drop=True)\n",
        "\n",
        "data_copy = data_copy.groupby(['Origin_Airport','Destination_Airport','Distance','Airline']).apply(fill_elapsed).reset_index(drop=True)\n",
        "\n",
        "data_copy = data_copy.groupby(['Origin_Airport','Destination_Airport','Airline']).apply(fill_elapsed).reset_index(drop=True)\n",
        "\n",
        "data_copy = data_copy.groupby(['Origin_Airport','Destination_Airport','Distance']).apply(fill_elapsed).reset_index(drop=True)\n",
        "\n",
        "\n",
        "data_copy['Estimated_Arrival_Datetime'] = data_copy.apply(lambda row: row['Estimated_Departure_Datetime'] + row['Elapsed_Time'] if (not pd.isna(row['Estimated_Departure_Datetime'])) and (not pd.isna(row['Elapsed_Time'])) else row['Estimated_Arrival_Datetime'],axis = 1)\n",
        "\n",
        "data_copy['Estimated_Departure_Datetime'] = data_copy.apply(lambda row: row['Estimated_Arrival_Datetime'] - row['Elapsed_Time'] if (not pd.isna(row['Estimated_Arrival_Datetime'])) and (not pd.isna(row['Elapsed_Time'])) else row['Estimated_Departure_Datetime'],axis = 1)\n",
        "\n",
        "data_copy['Estimated_Arrival_Datetime'] = data_copy.apply(lambda row: row['Estimated_Departure_Datetime'] + row['Elapsed_Time'] if (not pd.isna(row['Estimated_Departure_Datetime'])) and (not pd.isna(row['Elapsed_Time'])) else row['Estimated_Arrival_Datetime'],axis = 1)\n",
        "\n",
        "data_copy['Estimated_Departure_Datetime'] = data_copy.apply(lambda row : row['Estimated_Arrival_Datetime'] - row['Elapsed_Time'] if (not pd.isna(row['Estimated_Arrival_Datetime'])) and (not pd.isna(row['Elapsed_Time'])) else row['Estimated_Departure_Datetime'],axis = 1)\n",
        "\n",
        "data_copy['Estimated_Arrival_Datetime'] = data_copy.apply(lambda row: row['Estimated_Departure_Datetime'] + row['Elapsed_Time'] if (not pd.isna(row['Estimated_Departure_Datetime'])) and (not pd.isna(row['Elapsed_Time'])) else row['Estimated_Arrival_Datetime'],axis = 1)\n",
        "\n",
        "data_copy['Estimated_Departure_Datetime'] = data_copy.apply(lambda row : row['Estimated_Arrival_Datetime'] - row['Elapsed_Time'] if (not pd.isna(row['Estimated_Arrival_Datetime'])) and (not pd.isna(row['Elapsed_Time'])) else row['Estimated_Departure_Datetime'],axis = 1)\n",
        "\n",
        "# data_copy['Estimated_Arrival_Time'] = data_copy.apply(lambda row: datetime.time(row['Estimated_Arrival_Datetime']) if (not pd.isna(row['Estimated_Arrival_Datetime'])) else row['Estimated_Arrival_Time'],axis=1)\n",
        "\n",
        "# data_copy['Estimated_Departure_Time'] = data_copy.apply(lambda row: datetime.time(row['Estimated_Departure_Datetime']) if (not pd.isna(row['Estimated_Departure_Datetime'])) else row['Estimated_Departure_Time'],axis=1)\n",
        "\n",
        "\n",
        "# 학습을 위해 시간 데이터를 각 요소 별로 정수형으로 분리한다.\n",
        "########################################################\n",
        "\n",
        "data_copy['E_D_M'] = data_copy.apply(lambda row : row['Estimated_Departure_Datetime'].month,axis=1)\n",
        "data_copy['E_D_D'] = data_copy.apply(lambda row : row['Estimated_Departure_Datetime'].day,axis=1)\n",
        "data_copy['E_D_H'] = data_copy.apply(lambda row : row['Estimated_Departure_Datetime'].hour,axis=1)\n",
        "data_copy['E_D_m'] = data_copy.apply(lambda row : row['Estimated_Departure_Datetime'].minute,axis=1)\n",
        "\n",
        "data_copy['E_A_M'] = data_copy.apply(lambda row : row['Estimated_Arrival_Datetime'].month,axis=1)\n",
        "data_copy['E_A_D'] = data_copy.apply(lambda row : row['Estimated_Arrival_Datetime'].day,axis=1)\n",
        "data_copy['E_A_H'] = data_copy.apply(lambda row : row['Estimated_Arrival_Datetime'].hour,axis=1)\n",
        "data_copy['E_A_m'] = data_copy.apply(lambda row : row['Estimated_Arrival_Datetime'].minute,axis=1)\n",
        "\n",
        "data_copy['Elapsed_Time'] = data_copy.apply(lambda row : row['Elapsed_Time'].seconds // 60 ,axis=1)\n",
        "\n",
        "\n",
        "\"\"\"\n",
        "########################################################\n",
        "\n",
        "def airline_fillna(col1, col2):\n",
        "    dt_array = data_copy[col1].dropna().unique()\n",
        "    for i in dt_array:\n",
        "        id = data_copy[data_copy[col1]==i][col2].dropna().unique()[0]\n",
        "        data_copy.loc[data_copy[col1]==i, col2] = data_copy[data_copy[col1]==i][col2].fillna(id)\n",
        "\n",
        "airline_fillna('Airline', 'Carrier_ID(DOT)')\n",
        "\n",
        "# 1:1로 대응되는 Carrier_Code와 Carrier_ID 데이터를 이용하여 결측치 추가 제거(결측치: 2,185행)\n",
        "for i in ['WN', 'NK', 'B6', 'F9', 'G4', 'VX']:\n",
        "    id = data_copy[data_copy['Carrier_Code(IATA)']==i]['Carrier_ID(DOT)'].dropna().unique()[0]\n",
        "    data_copy.loc[data_copy['Carrier_Code(IATA)']==i, 'Carrier_ID(DOT)'] = data_copy[data_copy['Carrier_Code(IATA)']==i]['Carrier_ID(DOT)'].fillna(id)\n",
        "\n",
        "# carrier_id 결측치(2,185행) 삭제\n",
        "data_copy = data_copy.dropna(subset=['Carrier_ID(DOT)'], axis=0).reset_index(drop=True)\n",
        "\n",
        "# origin_state / destination_state / tail_number 인코딩\n",
        "le = LabelEncoder()\n",
        "data_copy_tail = le.fit_transform(data_copy['Tail_Number'])\n",
        "data_copy_or = le.fit_transform(data_copy['Origin_State'])\n",
        "data_copy_de = le.fit_transform(data_copy['Destination_State'])\n",
        "data_copy_le = pd.DataFrame({'tail_num': data_copy_tail, 'origin_st':data_copy_or, 'destination_st':data_copy_de})\n",
        "\n",
        "data = pd.concat([data_copy, data_copy_le], axis=1)\n",
        "\n",
        "\n",
        "\n",
        "\n",
        "\n",
        "\n",
        "# 필요 없는 컬럼 삭제\n",
        "data_copy.drop(['Airline', 'Carrier_Code(IATA)'], axis=1, inplace=True)\n",
        "data_copy.drop(['Cancelled', 'Diverted', 'Origin_Airport', 'Destination_Airport', 'Delay_Not_Delayed'], axis=1, inplace=True)\n",
        "data_copy.drop(['ID', 'Origin_State', 'Destination_State'], axis=1, inplace=True)\n",
        "data_copy.drop(['Estimated_Arrival_Time','Estimated_Departure_Time','Estimated_Arrival_Datetime','Estimated_Departure_Datetime','Month','Day_of_Month'],axis=1,inplace=True)\n",
        "\n",
        "\n",
        "\n",
        "\"\"\"\n",
        "data_copy.to_csv('preprocessed_02.csv')\n",
        "\n"
      ]
    },
    {
      "cell_type": "code",
      "source": [],
      "metadata": {
        "id": "h2MrzOfhcnWb"
      },
      "execution_count": null,
      "outputs": []
    },
    {
      "cell_type": "code",
      "execution_count": null,
      "metadata": {
        "colab": {
          "base_uri": "https://localhost:8080/",
          "height": 384
        },
        "id": "nxe0aj0SEykp",
        "outputId": "fee027d4-cadf-4f50-dcdd-d4f868c2beef"
      },
      "outputs": [
        {
          "ename": "FileNotFoundError",
          "evalue": "ignored",
          "output_type": "error",
          "traceback": [
            "\u001b[0;31m---------------------------------------------------------------------------\u001b[0m",
            "\u001b[0;31mFileNotFoundError\u001b[0m                         Traceback (most recent call last)",
            "\u001b[0;32m<ipython-input-5-5a07929a6f66>\u001b[0m in \u001b[0;36m<cell line: 4>\u001b[0;34m()\u001b[0m\n\u001b[1;32m      2\u001b[0m \u001b[0;32mfrom\u001b[0m \u001b[0mdatetime\u001b[0m \u001b[0;32mimport\u001b[0m \u001b[0mdatetime\u001b[0m\u001b[0;34m\u001b[0m\u001b[0;34m\u001b[0m\u001b[0m\n\u001b[1;32m      3\u001b[0m \u001b[0;34m\u001b[0m\u001b[0m\n\u001b[0;32m----> 4\u001b[0;31m \u001b[0mdata\u001b[0m \u001b[0;34m=\u001b[0m \u001b[0mpd\u001b[0m\u001b[0;34m.\u001b[0m\u001b[0mread_csv\u001b[0m\u001b[0;34m(\u001b[0m\u001b[0;34m'/content/drive/MyDrive/date_time_column_added.csv'\u001b[0m\u001b[0;34m)\u001b[0m\u001b[0;34m\u001b[0m\u001b[0;34m\u001b[0m\u001b[0m\n\u001b[0m\u001b[1;32m      5\u001b[0m \u001b[0;34m\u001b[0m\u001b[0m\n\u001b[1;32m      6\u001b[0m \u001b[0mdata\u001b[0m\u001b[0;34m.\u001b[0m\u001b[0mdrop\u001b[0m\u001b[0;34m(\u001b[0m\u001b[0mcolumns\u001b[0m\u001b[0;34m=\u001b[0m\u001b[0;34m'Unnamed: 0.1'\u001b[0m\u001b[0;34m,\u001b[0m\u001b[0minplace\u001b[0m\u001b[0;34m=\u001b[0m\u001b[0;32mTrue\u001b[0m\u001b[0;34m)\u001b[0m\u001b[0;34m\u001b[0m\u001b[0;34m\u001b[0m\u001b[0m\n",
            "\u001b[0;32m/usr/local/lib/python3.9/dist-packages/pandas/util/_decorators.py\u001b[0m in \u001b[0;36mwrapper\u001b[0;34m(*args, **kwargs)\u001b[0m\n\u001b[1;32m    209\u001b[0m                 \u001b[0;32melse\u001b[0m\u001b[0;34m:\u001b[0m\u001b[0;34m\u001b[0m\u001b[0;34m\u001b[0m\u001b[0m\n\u001b[1;32m    210\u001b[0m                     \u001b[0mkwargs\u001b[0m\u001b[0;34m[\u001b[0m\u001b[0mnew_arg_name\u001b[0m\u001b[0;34m]\u001b[0m \u001b[0;34m=\u001b[0m \u001b[0mnew_arg_value\u001b[0m\u001b[0;34m\u001b[0m\u001b[0;34m\u001b[0m\u001b[0m\n\u001b[0;32m--> 211\u001b[0;31m             \u001b[0;32mreturn\u001b[0m \u001b[0mfunc\u001b[0m\u001b[0;34m(\u001b[0m\u001b[0;34m*\u001b[0m\u001b[0margs\u001b[0m\u001b[0;34m,\u001b[0m \u001b[0;34m**\u001b[0m\u001b[0mkwargs\u001b[0m\u001b[0;34m)\u001b[0m\u001b[0;34m\u001b[0m\u001b[0;34m\u001b[0m\u001b[0m\n\u001b[0m\u001b[1;32m    212\u001b[0m \u001b[0;34m\u001b[0m\u001b[0m\n\u001b[1;32m    213\u001b[0m         \u001b[0;32mreturn\u001b[0m \u001b[0mcast\u001b[0m\u001b[0;34m(\u001b[0m\u001b[0mF\u001b[0m\u001b[0;34m,\u001b[0m \u001b[0mwrapper\u001b[0m\u001b[0;34m)\u001b[0m\u001b[0;34m\u001b[0m\u001b[0;34m\u001b[0m\u001b[0m\n",
            "\u001b[0;32m/usr/local/lib/python3.9/dist-packages/pandas/util/_decorators.py\u001b[0m in \u001b[0;36mwrapper\u001b[0;34m(*args, **kwargs)\u001b[0m\n\u001b[1;32m    329\u001b[0m                     \u001b[0mstacklevel\u001b[0m\u001b[0;34m=\u001b[0m\u001b[0mfind_stack_level\u001b[0m\u001b[0;34m(\u001b[0m\u001b[0;34m)\u001b[0m\u001b[0;34m,\u001b[0m\u001b[0;34m\u001b[0m\u001b[0;34m\u001b[0m\u001b[0m\n\u001b[1;32m    330\u001b[0m                 )\n\u001b[0;32m--> 331\u001b[0;31m             \u001b[0;32mreturn\u001b[0m \u001b[0mfunc\u001b[0m\u001b[0;34m(\u001b[0m\u001b[0;34m*\u001b[0m\u001b[0margs\u001b[0m\u001b[0;34m,\u001b[0m \u001b[0;34m**\u001b[0m\u001b[0mkwargs\u001b[0m\u001b[0;34m)\u001b[0m\u001b[0;34m\u001b[0m\u001b[0;34m\u001b[0m\u001b[0m\n\u001b[0m\u001b[1;32m    332\u001b[0m \u001b[0;34m\u001b[0m\u001b[0m\n\u001b[1;32m    333\u001b[0m         \u001b[0;31m# error: \"Callable[[VarArg(Any), KwArg(Any)], Any]\" has no\u001b[0m\u001b[0;34m\u001b[0m\u001b[0;34m\u001b[0m\u001b[0m\n",
            "\u001b[0;32m/usr/local/lib/python3.9/dist-packages/pandas/io/parsers/readers.py\u001b[0m in \u001b[0;36mread_csv\u001b[0;34m(filepath_or_buffer, sep, delimiter, header, names, index_col, usecols, squeeze, prefix, mangle_dupe_cols, dtype, engine, converters, true_values, false_values, skipinitialspace, skiprows, skipfooter, nrows, na_values, keep_default_na, na_filter, verbose, skip_blank_lines, parse_dates, infer_datetime_format, keep_date_col, date_parser, dayfirst, cache_dates, iterator, chunksize, compression, thousands, decimal, lineterminator, quotechar, quoting, doublequote, escapechar, comment, encoding, encoding_errors, dialect, error_bad_lines, warn_bad_lines, on_bad_lines, delim_whitespace, low_memory, memory_map, float_precision, storage_options)\u001b[0m\n\u001b[1;32m    948\u001b[0m     \u001b[0mkwds\u001b[0m\u001b[0;34m.\u001b[0m\u001b[0mupdate\u001b[0m\u001b[0;34m(\u001b[0m\u001b[0mkwds_defaults\u001b[0m\u001b[0;34m)\u001b[0m\u001b[0;34m\u001b[0m\u001b[0;34m\u001b[0m\u001b[0m\n\u001b[1;32m    949\u001b[0m \u001b[0;34m\u001b[0m\u001b[0m\n\u001b[0;32m--> 950\u001b[0;31m     \u001b[0;32mreturn\u001b[0m \u001b[0m_read\u001b[0m\u001b[0;34m(\u001b[0m\u001b[0mfilepath_or_buffer\u001b[0m\u001b[0;34m,\u001b[0m \u001b[0mkwds\u001b[0m\u001b[0;34m)\u001b[0m\u001b[0;34m\u001b[0m\u001b[0;34m\u001b[0m\u001b[0m\n\u001b[0m\u001b[1;32m    951\u001b[0m \u001b[0;34m\u001b[0m\u001b[0m\n\u001b[1;32m    952\u001b[0m \u001b[0;34m\u001b[0m\u001b[0m\n",
            "\u001b[0;32m/usr/local/lib/python3.9/dist-packages/pandas/io/parsers/readers.py\u001b[0m in \u001b[0;36m_read\u001b[0;34m(filepath_or_buffer, kwds)\u001b[0m\n\u001b[1;32m    603\u001b[0m \u001b[0;34m\u001b[0m\u001b[0m\n\u001b[1;32m    604\u001b[0m     \u001b[0;31m# Create the parser.\u001b[0m\u001b[0;34m\u001b[0m\u001b[0;34m\u001b[0m\u001b[0m\n\u001b[0;32m--> 605\u001b[0;31m     \u001b[0mparser\u001b[0m \u001b[0;34m=\u001b[0m \u001b[0mTextFileReader\u001b[0m\u001b[0;34m(\u001b[0m\u001b[0mfilepath_or_buffer\u001b[0m\u001b[0;34m,\u001b[0m \u001b[0;34m**\u001b[0m\u001b[0mkwds\u001b[0m\u001b[0;34m)\u001b[0m\u001b[0;34m\u001b[0m\u001b[0;34m\u001b[0m\u001b[0m\n\u001b[0m\u001b[1;32m    606\u001b[0m \u001b[0;34m\u001b[0m\u001b[0m\n\u001b[1;32m    607\u001b[0m     \u001b[0;32mif\u001b[0m \u001b[0mchunksize\u001b[0m \u001b[0;32mor\u001b[0m \u001b[0miterator\u001b[0m\u001b[0;34m:\u001b[0m\u001b[0;34m\u001b[0m\u001b[0;34m\u001b[0m\u001b[0m\n",
            "\u001b[0;32m/usr/local/lib/python3.9/dist-packages/pandas/io/parsers/readers.py\u001b[0m in \u001b[0;36m__init__\u001b[0;34m(self, f, engine, **kwds)\u001b[0m\n\u001b[1;32m   1440\u001b[0m \u001b[0;34m\u001b[0m\u001b[0m\n\u001b[1;32m   1441\u001b[0m         \u001b[0mself\u001b[0m\u001b[0;34m.\u001b[0m\u001b[0mhandles\u001b[0m\u001b[0;34m:\u001b[0m \u001b[0mIOHandles\u001b[0m \u001b[0;34m|\u001b[0m \u001b[0;32mNone\u001b[0m \u001b[0;34m=\u001b[0m \u001b[0;32mNone\u001b[0m\u001b[0;34m\u001b[0m\u001b[0;34m\u001b[0m\u001b[0m\n\u001b[0;32m-> 1442\u001b[0;31m         \u001b[0mself\u001b[0m\u001b[0;34m.\u001b[0m\u001b[0m_engine\u001b[0m \u001b[0;34m=\u001b[0m \u001b[0mself\u001b[0m\u001b[0;34m.\u001b[0m\u001b[0m_make_engine\u001b[0m\u001b[0;34m(\u001b[0m\u001b[0mf\u001b[0m\u001b[0;34m,\u001b[0m \u001b[0mself\u001b[0m\u001b[0;34m.\u001b[0m\u001b[0mengine\u001b[0m\u001b[0;34m)\u001b[0m\u001b[0;34m\u001b[0m\u001b[0;34m\u001b[0m\u001b[0m\n\u001b[0m\u001b[1;32m   1443\u001b[0m \u001b[0;34m\u001b[0m\u001b[0m\n\u001b[1;32m   1444\u001b[0m     \u001b[0;32mdef\u001b[0m \u001b[0mclose\u001b[0m\u001b[0;34m(\u001b[0m\u001b[0mself\u001b[0m\u001b[0;34m)\u001b[0m \u001b[0;34m->\u001b[0m \u001b[0;32mNone\u001b[0m\u001b[0;34m:\u001b[0m\u001b[0;34m\u001b[0m\u001b[0;34m\u001b[0m\u001b[0m\n",
            "\u001b[0;32m/usr/local/lib/python3.9/dist-packages/pandas/io/parsers/readers.py\u001b[0m in \u001b[0;36m_make_engine\u001b[0;34m(self, f, engine)\u001b[0m\n\u001b[1;32m   1733\u001b[0m                 \u001b[0;32mif\u001b[0m \u001b[0;34m\"b\"\u001b[0m \u001b[0;32mnot\u001b[0m \u001b[0;32min\u001b[0m \u001b[0mmode\u001b[0m\u001b[0;34m:\u001b[0m\u001b[0;34m\u001b[0m\u001b[0;34m\u001b[0m\u001b[0m\n\u001b[1;32m   1734\u001b[0m                     \u001b[0mmode\u001b[0m \u001b[0;34m+=\u001b[0m \u001b[0;34m\"b\"\u001b[0m\u001b[0;34m\u001b[0m\u001b[0;34m\u001b[0m\u001b[0m\n\u001b[0;32m-> 1735\u001b[0;31m             self.handles = get_handle(\n\u001b[0m\u001b[1;32m   1736\u001b[0m                 \u001b[0mf\u001b[0m\u001b[0;34m,\u001b[0m\u001b[0;34m\u001b[0m\u001b[0;34m\u001b[0m\u001b[0m\n\u001b[1;32m   1737\u001b[0m                 \u001b[0mmode\u001b[0m\u001b[0;34m,\u001b[0m\u001b[0;34m\u001b[0m\u001b[0;34m\u001b[0m\u001b[0m\n",
            "\u001b[0;32m/usr/local/lib/python3.9/dist-packages/pandas/io/common.py\u001b[0m in \u001b[0;36mget_handle\u001b[0;34m(path_or_buf, mode, encoding, compression, memory_map, is_text, errors, storage_options)\u001b[0m\n\u001b[1;32m    854\u001b[0m         \u001b[0;32mif\u001b[0m \u001b[0mioargs\u001b[0m\u001b[0;34m.\u001b[0m\u001b[0mencoding\u001b[0m \u001b[0;32mand\u001b[0m \u001b[0;34m\"b\"\u001b[0m \u001b[0;32mnot\u001b[0m \u001b[0;32min\u001b[0m \u001b[0mioargs\u001b[0m\u001b[0;34m.\u001b[0m\u001b[0mmode\u001b[0m\u001b[0;34m:\u001b[0m\u001b[0;34m\u001b[0m\u001b[0;34m\u001b[0m\u001b[0m\n\u001b[1;32m    855\u001b[0m             \u001b[0;31m# Encoding\u001b[0m\u001b[0;34m\u001b[0m\u001b[0;34m\u001b[0m\u001b[0m\n\u001b[0;32m--> 856\u001b[0;31m             handle = open(\n\u001b[0m\u001b[1;32m    857\u001b[0m                 \u001b[0mhandle\u001b[0m\u001b[0;34m,\u001b[0m\u001b[0;34m\u001b[0m\u001b[0;34m\u001b[0m\u001b[0m\n\u001b[1;32m    858\u001b[0m                 \u001b[0mioargs\u001b[0m\u001b[0;34m.\u001b[0m\u001b[0mmode\u001b[0m\u001b[0;34m,\u001b[0m\u001b[0;34m\u001b[0m\u001b[0;34m\u001b[0m\u001b[0m\n",
            "\u001b[0;31mFileNotFoundError\u001b[0m: [Errno 2] No such file or directory: '/content/drive/MyDrive/date_time_column_added.csv'"
          ]
        }
      ],
      "source": [
        "import pandas as pd\n",
        "from datetime import datetime\n",
        "\n",
        "data = pd.read_csv('/content/drive/MyDrive/date_time_column_added.csv')\n",
        "\n",
        "data.drop(columns='Unnamed: 0.1',inplace=True)\n",
        "data.drop(columns='Unnamed: 0',inplace=True)\n",
        "\n",
        "\n",
        "data_copy = data.copy()\n",
        "data_copy['Estimated_Departure_Datetime']=pd.to_datetime(data_copy['Estimated_Departure_Datetime'])\n",
        "data_copy['Estimated_Arrival_Datetime']=pd.to_datetime(data_copy['Estimated_Arrival_Datetime'])\n",
        "data_copy['Elapsed_Time'] = data_copy.apply(lambda row: row['Estimated_Arrival_Datetime'] - row['Estimated_Departure_Datetime'] if (not pd.isna(row['Estimated_Departure_Datetime'])) and (not pd.isna(row['Estimated_Arrival_Datetime'])) else pd.NaT, axis=1)\n",
        "\n",
        "def fill_elapsed(group):\n",
        "    elapsed_mean = group['Elapsed_Time'].mean()\n",
        "    group['Elapsed_Time'].fillna(elapsed_mean,inplace=True)\n",
        "    return group\n",
        "\n",
        "data_copy = data_copy.groupby(['Month','Origin_Airport','Destination_Airport','Distance', 'Airline','Tail_Number']).apply(fill_elapsed).reset_index(drop=True)\n",
        "\n",
        "data_copy = data_copy.groupby(['Month','Origin_Airport','Destination_Airport','Distance', 'Airline']).apply(fill_elapsed).reset_index(drop=True)\n",
        "\n",
        "data_copy = data_copy.groupby(['Month','Origin_Airport','Destination_Airport','Distance']).apply(fill_elapsed).reset_index(drop=True)\n",
        "\n",
        "data_copy['Estimated_Arrival_Datetime'] = data_copy.apply(lambda row: row['Estimated_Departure_Datetime'] + row['Elapsed_Time'] if (not pd.isna(row['Estimated_Departure_Datetime'])) and (not pd.isna(row['Elapsed_Time'])) else row['Estimated_Arrival_Datetime'],axis = 1)\n",
        "\n",
        "data_copy['Estimated_Departure_Datetime'] = data_copy.apply(lambda row: row['Estimated_Arrival_Datetime'] - row['Elapsed_Time'] if (not pd.isna(row['Estimated_Departure_Datetime'])) and (not pd.isna(row['Elapsed_Time'])) else row['Estimated_Departure_Datetime'],axis = 1)\n",
        "\n",
        "data_copy['Estimated_Arrival_Time'] = data_copy.apply(lambda row: datetime.time(row['Estimated_Arrival_Datetime']) if (not pd.isna(row['Estimated_Arrival_Datetime'])) else row['Estimated_Arrival_Time'],axis=1)\n",
        "\n",
        "data_copy['Estimated_Departure_Time'] = data_copy.apply(lambda row: datetime.time(row['Estimated_Departure_Datetime']) if (not pd.isna(row['Estimated_Departure_Datetime'])) else row['Estimated_Departure_Time'],axis=1)\n",
        "\n",
        "\n",
        "data_copy.to_csv('final_time_modified_day24.csv')\n"
      ]
    },
    {
      "cell_type": "code",
      "execution_count": null,
      "metadata": {
        "id": "01njdNtiWBbf"
      },
      "outputs": [],
      "source": [
        "import pandas as pd"
      ]
    },
    {
      "cell_type": "code",
      "source": [
        "data_2 = pd.read_csv('/content/drive/MyDrive/new_preprocessed/pro_2.csv')\n",
        "data_2.drop(columns=['Unnamed: 0', 'index'],inplace=True)\n",
        "data_2_dummy = pd.get_dummies(data_2,columns=['Origin_Airport_ID', 'Destination_Airport_ID',\n",
        "       'Distance', 'Carrier_ID(DOT)', 'Elapsed_Time', 'E_D_M',\n",
        "       'E_D_D', 'E_D_H', 'E_D_m', 'E_A_M', 'E_A_D', 'E_A_H', 'E_A_m',\n",
        "       'tail_num', 'origin_st', 'destination_st'])\n",
        "data_2_dummy.columns"
      ],
      "metadata": {
        "id": "gdXdqVTzARhP",
        "colab": {
          "base_uri": "https://localhost:8080/"
        },
        "outputId": "208a99e3-8e7e-488e-a19c-a9f398f5d732"
      },
      "execution_count": null,
      "outputs": [
        {
          "output_type": "execute_result",
          "data": {
            "text/plain": [
              "Index(['Delay_Delayed', 'Origin_Airport_ID_10135', 'Origin_Airport_ID_10136',\n",
              "       'Origin_Airport_ID_10140', 'Origin_Airport_ID_10141',\n",
              "       'Origin_Airport_ID_10146', 'Origin_Airport_ID_10154',\n",
              "       'Origin_Airport_ID_10155', 'Origin_Airport_ID_10157',\n",
              "       'Origin_Airport_ID_10158',\n",
              "       ...\n",
              "       'destination_st_42', 'destination_st_43', 'destination_st_44',\n",
              "       'destination_st_45', 'destination_st_46', 'destination_st_47',\n",
              "       'destination_st_48', 'destination_st_49', 'destination_st_50',\n",
              "       'destination_st_51'],\n",
              "      dtype='object', length=9681)"
            ]
          },
          "metadata": {},
          "execution_count": 4
        }
      ]
    },
    {
      "cell_type": "code",
      "source": [
        "from xgboost import XGBClassifier\n",
        "from lightgbm import LGBMClassifier\n",
        "from sklearn.neighbors import KNeighborsClassifier\n",
        "from sklearn.ensemble import RandomForestClassifier\n",
        "from sklearn.tree import DecisionTreeClassifier\n",
        "from sklearn.metrics import f1_score,log_loss\n",
        "from sklearn.model_selection import train_test_split\n",
        "from sklearn.preprocessing import MinMaxScaler,StandardScaler\n",
        "from sklearn.linear_model import LogisticRegression\n",
        "data_2.dropna(inplace=True)\n"
      ],
      "metadata": {
        "id": "Yr4NBh_KrvzT"
      },
      "execution_count": null,
      "outputs": []
    },
    {
      "cell_type": "code",
      "source": [
        "\n",
        "import random\n",
        "import os\n",
        "import numpy as np\n",
        "import pandas as pd\n",
        "import gc\n",
        "from sklearn.preprocessing import LabelEncoder, StandardScaler\n",
        "from sklearn.ensemble import RandomForestClassifier\n",
        "from sklearn.model_selection import train_test_split, GridSearchCV, StratifiedKFold\n",
        "from sklearn.metrics import accuracy_score, f1_score, precision_score, recall_score, make_scorer\n",
        "from xgboost import XGBClassifier\n",
        "\n",
        "def seed_everything(seed):\n",
        "    random.seed(seed)\n",
        "    os.environ['PYTHONHASHSEED'] = str(seed)\n",
        "    np.random.seed(seed)\n",
        "\n",
        "seed_everything(42) # Fixed Seed\n",
        "\n",
        "def csv_to_parquet(csv_path, save_name):\n",
        "    df = pd.read_csv(csv_path)\n",
        "    df.to_parquet(f'./{save_name}.parquet')\n",
        "    del df\n",
        "    gc.collect()\n",
        "    print(save_name, 'Done.')\n",
        "\n",
        "csv_to_parquet('/content/drive/MyDrive/new_prerprocessed/train.csv', 'train')\n",
        "csv_to_parquet('/content/drive/MyDrive/new_preprocessed/test.csv', 'test')\n",
        "\n",
        "train = pd.read_parquet('./train.parquet')\n",
        "test = pd.read_parquet('./test.parquet')\n",
        "sample_submission = pd.read_csv('/content/drive/MyDrive/gaming project/sample_submission.csv', index_col = 0)\n",
        "\n",
        "# Replace variables with missing values except for the label (Delay) with the most frequent values of the training data\n",
        "# 컬럼의 누락된 값은 훈련 데이터에서 해당 컬럼의 최빈값으로 대체됩니다.\n",
        "NaN_col = ['Origin_State','Destination_State','Airline','Estimated_Departure_Time', 'Estimated_Arrival_Time','Carrier_Code(IATA)','Carrier_ID(DOT)']\n",
        "\n",
        "for col in NaN_col:\n",
        "    mode = train[col].mode()[0]\n",
        "    train[col] = train[col].fillna(mode)\n",
        "\n",
        "    if col in test.columns:\n",
        "        test[col] = test[col].fillna(mode)\n",
        "print('Done.')\n",
        "\n",
        "# Quantify qualitative variables\n",
        "# 정성적 변수는 LabelEncoder를 사용하여 숫자로 인코딩됩니다.\n",
        "qual_col = ['Origin_Airport', 'Origin_State', 'Destination_Airport', 'Destination_State', 'Airline', 'Carrier_Code(IATA)', 'Tail_Number']\n",
        "\n",
        "for i in qual_col:\n",
        "    le = LabelEncoder()\n",
        "    le = le.fit(train[i])\n",
        "    train[i] = le.transform(train[i])\n",
        "\n",
        "    for label in np.unique(test[i]):\n",
        "        if label not in le.classes_:\n",
        "            le.classes_ = np.append(le.classes_, label)\n",
        "    test[i] = le.transform(test[i])\n",
        "print('Done.')\n",
        "\n",
        "# Remove unlabeled data\n",
        "# 훈련 세트에서 레이블이 지정되지 않은 데이터가 제거되고 숫자 레이블 열이 추가됩니다.\n",
        "train = train.dropna()\n",
        "\n",
        "column_number = {}\n",
        "for i, column in enumerate(sample_submission.columns):\n",
        "    column_number[column] = i\n",
        "\n",
        "def to_number(x, dic):\n",
        "    return dic[x]\n",
        "\n",
        "train.loc[:, 'Delay_num'] = train['Delay'].apply(lambda x: to_number(x, column_number))\n",
        "print('Done.')\n",
        "\n",
        "train_x = train.drop(columns=['ID', 'Delay', 'Delay_num'])\n",
        "train_y = train['Delay_num']\n",
        "test_x = test.drop(columns=['ID'])\n",
        "\n",
        "# 교육 데이터는 교육 및 검증 세트로 분할되고 수치 기능은 StandardScaler를 사용하여 정규화됩니다.\n",
        "# 모델은 GridSearchCV와 5겹 교차 검증을 사용하여 수행되는 하이퍼파라미터 튜닝과 함께 XGBClassifier를 사용하여 훈련됩니다.\n",
        "# Split the training dataset into a training set and a validation set\n",
        "train_x, val_x, train_y, val_y = train_test_split(train_x, train_y, test_size=0.2, random_state=42)\n",
        "\n",
        "# Normalize numerical features\n",
        "scaler = StandardScaler()\n",
        "train_x = scaler.fit_transform(train_x)\n",
        "val_x = scaler.transform(val_x)\n",
        "test_x = scaler.transform(test_x)\n",
        "\n",
        "# Cross-validation with StratifiedKFold\n",
        "cv = StratifiedKFold(n_splits=5, shuffle=True, random_state=42)\n",
        "\n",
        "# Model and hyperparameter tuning using GridSearchCV\n",
        "model = XGBClassifier(random_state=42)\n",
        "\n",
        "param_grid = {\n",
        "    'learning_rate': [0.01, 0.1],\n",
        "    'max_depth': [3, 5],\n",
        "    'n_estimators': [100, 200],\n",
        "}\n",
        "\n",
        "grid = GridSearchCV(model,\n",
        "                    param_grid,\n",
        "                    cv=cv,\n",
        "                    scoring='accuracy',\n",
        "                    n_jobs=-1,\n",
        "                    verbose=1)\n",
        "\n",
        "grid.fit(train_x, train_y)\n",
        "\n",
        "best_model = grid.best_estimator_\n",
        "\n",
        "# Model evaluation\n",
        "val_y_pred = best_model.predict(val_x)\n",
        "accuracy = accuracy_score(val_y, val_y_pred)\n",
        "f1 = f1_score(val_y, val_y_pred, average='weighted')\n",
        "precision = precision_score(val_y, val_y_pred, average='weighted')\n",
        "recall = recall_score(val_y, val_y_pred, average='weighted')\n",
        "\n",
        "print(f'Accuracy: {accuracy}')\n",
        "print(f'F1 Score: {f1}')\n",
        "print(f'Precision: {precision}')\n",
        "print(f'Recall: {recall}')\n",
        "\n",
        "# 하이퍼파라미터 튜닝 결과를 바탕으로 최적의 모델을 선택하고 테스트 세트의 목표 변수를 예측하는 데 사용합니다.\n",
        "# Model prediction\n",
        "y_pred = best_model.predict_proba(test_x)\n",
        "submission = pd.DataFrame(data=y_pred, columns=sample_submission.columns, index=sample_submission.index)\n",
        "submission.to_csv('optimized_submission.csv', index=True)\n"
      ],
      "metadata": {
        "id": "VXNo3RHfv4Cu"
      },
      "execution_count": null,
      "outputs": []
    },
    {
      "cell_type": "code",
      "source": [
        "stscaler2 = StandardScaler()\n",
        "mmscaler2 = MinMaxScaler()\n",
        "\n",
        "data_2_copy = data_2.copy()\n",
        "\n",
        "y2 = data_2_copy.pop('Delay_Delayed')\n",
        "\n",
        "stscaler2.fit(data_2_copy)\n",
        "X2 =stscaler2.transform(data_2_copy)\n",
        "X2_train,X2_test,y2_train,y2_test = train_test_split(X2,y2,test_size=0.1,stratify=y2,random_state=1)\n",
        "# y2_test = y2_test.to_numpy()\n",
        "xgbmodel2 = XGBClassifier()\n",
        "lgbmmodel2 = LGBMClassifier()\n",
        "knnmodel2 = KNeighborsClassifier()\n",
        "rfmodel2 = RandomForestClassifier()\n",
        "dtmodel2 = DecisionTreeClassifier()\n",
        "\n",
        "\n",
        "xgbmodel2.fit(X2_train,y2_train)\n",
        "xgb_pred3 = xgbmodel2.predict(X2_test)\n",
        "print('XGBoost log loss :',log_loss(y2_test,xgb_pred3))\n",
        "print('XGBoost f1 score :', f1_score(y2_test,xgb_pred3))\n",
        "\n",
        "lgbmmodel2.fit(X2_train,y2_train)\n",
        "lgbm_pred3 = lgbmmodel2.predict(X2_test)\n",
        "fi = lgbmmodel2.feature_importances_\n",
        "print('LightGBM feature importance',fi)\n",
        "print('LightGBM log loss :',log_loss(y2_test,lgbm_pred3))\n",
        "print('LightGBM f1 score :',f1_score(y2_test,lgbm_pred3))\n",
        "\n",
        "# knnmodel3.fit(X2_train,y2_train)\n",
        "# knn_pred3 = knnmodel3.predict(X2_test)\n",
        "# print('KNN log loss :',log_loss(y2_test,knn_pred2))\n",
        "# print('KNN f1 score :',f1_score(y2_test,knn_pred2))\n",
        "\n",
        "rfmodel2.fit(X2_train,y2_train)\n",
        "rf_pred2 = rfmodel2.predict(X2_test)\n",
        "print('RF log loss :',log_loss(y2_test,rf_pred2))\n",
        "print('RF f1 score :',f1_score(y2_test,rf_pred2))"
      ],
      "metadata": {
        "colab": {
          "base_uri": "https://localhost:8080/"
        },
        "id": "2yl3eeDTqxeN",
        "outputId": "7f2ae03c-7d86-46a1-cd11-56b91c024873"
      },
      "execution_count": null,
      "outputs": [
        {
          "output_type": "stream",
          "name": "stdout",
          "text": [
            "XGBoost log loss : 6.3709315235548925\n",
            "XGBoost f1 score : 0.04428399518652226\n",
            "LightGBM feature importance [209 188 200 329 208 256 258 195 108  76  86 152 106 239 204 186]\n",
            "LightGBM log loss : 6.359700971889095\n",
            "LightGBM f1 score : 0.014910536779324057\n",
            "RF log loss : 6.500885049973414\n",
            "RF f1 score : 0.06073249884098285\n"
          ]
        }
      ]
    },
    {
      "cell_type": "code",
      "source": [
        "lrmodel2 = LogisticRegression()\n",
        "lrmodel2.fit(X2_train,y2_train)\n",
        "lr_pred2 = lrmodel2.predict(X2_test)\n",
        "print('logistic R logloss :',log_loss(y2_test,lr_pred2))\n",
        "print('logistic R f1 score :',f1_score(y2_test,lr_pred2))\n"
      ],
      "metadata": {
        "colab": {
          "base_uri": "https://localhost:8080/"
        },
        "id": "RIfkKvDfsKL7",
        "outputId": "5774bdec-9118-4d2e-c30a-3b8847d40a1c"
      },
      "execution_count": null,
      "outputs": [
        {
          "output_type": "stream",
          "name": "stdout",
          "text": [
            "logistic R logloss : 6.367722794507521\n",
            "logistic R f1 score : 0.0\n"
          ]
        }
      ]
    },
    {
      "cell_type": "code",
      "source": [],
      "metadata": {
        "id": "JTNdRixSsZOB"
      },
      "execution_count": null,
      "outputs": []
    }
  ],
  "metadata": {
    "colab": {
      "provenance": [],
      "include_colab_link": true
    },
    "gpuClass": "standard",
    "kernelspec": {
      "display_name": "New38",
      "language": "python",
      "name": "python3"
    },
    "language_info": {
      "codemirror_mode": {
        "name": "ipython",
        "version": 3
      },
      "file_extension": ".py",
      "mimetype": "text/x-python",
      "name": "python",
      "nbconvert_exporter": "python",
      "pygments_lexer": "ipython3",
      "version": "3.8.16"
    }
  },
  "nbformat": 4,
  "nbformat_minor": 0
}